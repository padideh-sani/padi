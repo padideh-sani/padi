{
 "cells": [
  {
   "cell_type": "code",
   "execution_count": 2,
   "metadata": {},
   "outputs": [],
   "source": [
    "import pandas as pd \n",
    "import numpy as np"
   ]
  },
  {
   "cell_type": "code",
   "execution_count": 3,
   "metadata": {
    "scrolled": true
   },
   "outputs": [
    {
     "data": {
      "text/plain": [
       "id                object\n",
       "date              object\n",
       "price            float64\n",
       "bedrooms         float64\n",
       "bathrooms        float64\n",
       "sqft_living      float64\n",
       "sqft_lot           int64\n",
       "floors            object\n",
       "waterfront         int64\n",
       "view               int64\n",
       "condition          int64\n",
       "grade              int64\n",
       "sqft_above         int64\n",
       "sqft_basement      int64\n",
       "yr_built           int64\n",
       "yr_renovated       int64\n",
       "zipcode           object\n",
       "lat              float64\n",
       "long             float64\n",
       "sqft_living15    float64\n",
       "sqft_lot15       float64\n",
       "dtype: object"
      ]
     },
     "execution_count": 3,
     "metadata": {},
     "output_type": "execute_result"
    }
   ],
   "source": [
    "dtype_dict = {'bathrooms':float, 'waterfront':int, 'sqft_above':int, 'sqft_living15':float, 'grade':int, 'yr_renovated':int, 'price':float, 'bedrooms':float, 'zipcode':str, 'long':float, 'sqft_lot15':float, 'sqft_living':float, 'floors':str, 'condition':int, 'lat':float, 'date':str, 'sqft_basement':int, 'yr_built':int, 'id':str, 'sqft_lot':int, 'view':int}\n",
    "train_Data= pd.read_csv(\"/home/padi/Documents/closedform/kc_house_train_data.csv\",dtype=dtype_dict)\n",
    "test_Data= pd.read_csv(\"/home/padi/Documents/closedform/kc_house_test_data.csv\",dtype=dtype_dict)\n",
    "train_Data.dtypes\n",
    "\n"
   ]
  },
  {
   "cell_type": "code",
   "execution_count": 34,
   "metadata": {},
   "outputs": [],
   "source": [
    "#for i in train_Data.id:  \n",
    "  #  house_price = (train_Data['price']).sum() \n",
    "  # sqft=(train_Data['sqft_living']).sum()\n",
    "  #  mult=((train_Data['price'])*(train_Data['sqft_living'])).sum() \n",
    "   \n",
    "   # square= ((train_Data['sqft_living']) ** 2).sum()\n",
    "#cnt=(train_Data['id']).count()\n",
    "#w1=(mult-(mult/cnt))/(square-(mult/cnt))\n",
    "#w2=(house_price/cnt)- ((w1*sqft)/cnt)\n",
    "#print (house_price)\n",
    "#print (sqft)\n",
    "#print (cnt)\n",
    "#print (w1)\n",
    "#print(w2)\n",
    "\n",
    "  "
   ]
  },
  {
   "cell_type": "code",
   "execution_count": 30,
   "metadata": {
    "scrolled": true
   },
   "outputs": [
    {
     "name": "stdout",
     "output_type": "stream",
     "text": [
      "23666256853232.0\n",
      "89977452623.0\n",
      "9376349460.0\n",
      "36159233.0\n",
      "267.04970311766823\n",
      "-16104.635159491096\n"
     ]
    }
   ],
   "source": [
    "def simple_linear_regression(inputfeatures,output):\n",
    "    \n",
    "    for i in train_Data.id:  \n",
    "        out_sum = output.sum()\n",
    "        in_sum = inputfeatures.sum()\n",
    "        mult = (output*inputfeatures).sum()\n",
    "        square = (inputfeatures**2).sum()\n",
    "        cnt = inputfeatures.count()\n",
    "    print(mult)\n",
    "    print(square)\n",
    "    slope = (mult-(mult/cnt))/(square-(mult/cnt))\n",
    "    intercept = (out_sum/cnt)- ((slope*in_sum)/cnt)\n",
    "    \n",
    "    return (intercept,slope,out_sum,in_sum)\n",
    "house_price=train_Data['price']\n",
    "sqft=train_Data['sqft_living']\n",
    "\n",
    "intercept1, slope1,out_sum ,in_sum = (simple_linear_regression(sqft,house_price))\n",
    "#print (simple_linear_regression(sqft,house_price))\n",
    "print(out_sum)\n",
    "print(in_sum )\n",
    "print (slope1)\n",
    "print (intercept1)"
   ]
  },
  {
   "cell_type": "code",
   "execution_count": 31,
   "metadata": {},
   "outputs": [],
   "source": [
    "def get_regression_predictions(inputfeatures,intercept,slope):\n",
    "    predicted_output = intercept+(slope*inputfeatures)\n",
    "    return (predicted_output)\n",
    "\n",
    "\n"
   ]
  },
  {
   "cell_type": "code",
   "execution_count": 32,
   "metadata": {},
   "outputs": [
    {
     "name": "stdout",
     "output_type": "stream",
     "text": [
      "-16104.635159491096\n",
      "267.04970311766823\n"
     ]
    },
    {
     "data": {
      "text/plain": [
       "691577.0781023297"
      ]
     },
     "execution_count": 32,
     "metadata": {},
     "output_type": "execute_result"
    }
   ],
   "source": [
    "#get_regression_predictions(2650,,)\n",
    "print(intercept1)\n",
    "print(slope1)\n",
    "\n",
    "get_regression_predictions(2650, intercept1, slope1)\n"
   ]
  },
  {
   "cell_type": "code",
   "execution_count": 75,
   "metadata": {},
   "outputs": [],
   "source": [
    "def  get_residual_sum_of_square(inputfeatures,outputs,intercept,slope):\n",
    "     for i in train_Data.id:         \n",
    "       # RssSquare=(intercept-slope*inputfeatures[i])**2\n",
    "        RssSquare = outputs- get_regression_predictions(inputfeatures, intercept1, slope1)\n",
    "        Rss = (outputs-RssSquare).sum()\n",
    "             \n",
    "        return (Rss)"
   ]
  },
  {
   "cell_type": "code",
   "execution_count": 44,
   "metadata": {},
   "outputs": [
    {
     "name": "stdout",
     "output_type": "stream",
     "text": [
      "-16104.635159491096\n",
      "267.04970311766823\n",
      "36159233.0\n",
      "9376349460.0\n"
     ]
    },
    {
     "data": {
      "text/plain": [
       "<function float64.sum>"
      ]
     },
     "execution_count": 44,
     "metadata": {},
     "output_type": "execute_result"
    }
   ],
   "source": [
    "\n",
    "#sqft=train_Data['sqft_living']\n",
    "#print(sqft)\n",
    "#print(train_Data['price'])\n",
    "print (intercept1)\n",
    "print(slope1)\n",
    "print(in_sum)\n",
    "print(out_sum)\n",
    "\n",
    "get_residual_sum_of_square(in_sum,out_sum,intercept1,slope1)"
   ]
  },
  {
   "cell_type": "code",
   "execution_count": 48,
   "metadata": {},
   "outputs": [],
   "source": [
    "def inverse_regression_predictions(output, intercept, slope):\n",
    "        estimated_input=(output-intercept)/slope\n",
    "        return(estimated_input)\n"
   ]
  },
  {
   "cell_type": "code",
   "execution_count": 50,
   "metadata": {},
   "outputs": [
    {
     "data": {
      "text/plain": [
       "3056.0027801262772"
      ]
     },
     "execution_count": 50,
     "metadata": {},
     "output_type": "execute_result"
    }
   ],
   "source": [
    "O_Value=800000\n",
    "inverse_regression_predictions(O_Value,intercept1,slope1)\n",
    "    "
   ]
  },
  {
   "cell_type": "code",
   "execution_count": 59,
   "metadata": {},
   "outputs": [
    {
     "name": "stdout",
     "output_type": "stream",
     "text": [
      "33414715665.0\n",
      "211637.0\n"
     ]
    }
   ],
   "source": [
    "bedroom = train_Data['bedrooms']\n",
    "price = train_Data['price']\n",
    "bedroomintercept,bedroomslope,a,b = simple_linear_regression(bedroom,price)\n"
   ]
  },
  {
   "cell_type": "code",
   "execution_count": 76,
   "metadata": {},
   "outputs": [
    {
     "name": "stdout",
     "output_type": "stream",
     "text": [
      "8793640.0\n",
      "14281.0\n",
      "2296575548.0\n",
      "267.04970311766823\n",
      "-16104.635159491096\n",
      "2348322846.688493\n",
      "3797632.175064087\n"
     ]
    }
   ],
   "source": [
    "\n",
    "test_living_input = test_Data['sqft_living'].sum()\n",
    "test_bedroom_Input = test_Data['bedrooms'].sum()\n",
    "price_test_output = test_Data['price'].sum()\n",
    "print(test_living_input)\n",
    "print(test_bedroom_Input)\n",
    "print(price_test_output)\n",
    "print(slope1)\n",
    "print(intercept1)\n",
    "Rss_living_test = get_residual_sum_of_square(test_living_input,price_test_output,intercept1,slope1)\n",
    "Rss_bedroom_test = get_residual_sum_of_square(test_bedroom_Input,price_test_output,intercept1,slope1)\n",
    "print(Rss_living_test)\n",
    "print(Rss_bedroom_test)"
   ]
  },
  {
   "cell_type": "code",
   "execution_count": null,
   "metadata": {},
   "outputs": [],
   "source": []
  },
  {
   "cell_type": "code",
   "execution_count": null,
   "metadata": {},
   "outputs": [],
   "source": []
  }
 ],
 "metadata": {
  "kernelspec": {
   "display_name": "Python 3",
   "language": "python",
   "name": "python3"
  },
  "language_info": {
   "codemirror_mode": {
    "name": "ipython",
    "version": 3
   },
   "file_extension": ".py",
   "mimetype": "text/x-python",
   "name": "python",
   "nbconvert_exporter": "python",
   "pygments_lexer": "ipython3",
   "version": "3.7.1"
  }
 },
 "nbformat": 4,
 "nbformat_minor": 2
}
